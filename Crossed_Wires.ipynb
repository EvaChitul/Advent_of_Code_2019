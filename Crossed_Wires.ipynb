{
  "nbformat": 4,
  "nbformat_minor": 0,
  "metadata": {
    "colab": {
      "name": "Crossed_Wires.ipynb",
      "provenance": [],
      "authorship_tag": "ABX9TyOJBN3eY3KF7vqYt6mrkeHm",
      "include_colab_link": true
    },
    "kernelspec": {
      "name": "python3",
      "display_name": "Python 3"
    }
  },
  "cells": [
    {
      "cell_type": "markdown",
      "metadata": {
        "id": "view-in-github",
        "colab_type": "text"
      },
      "source": [
        "<a href=\"https://colab.research.google.com/github/EvaChitul/Advent_of_Code_2019/blob/master/Crossed_Wires.ipynb\" target=\"_parent\"><img src=\"https://colab.research.google.com/assets/colab-badge.svg\" alt=\"Open In Colab\"/></a>"
      ]
    },
    {
      "cell_type": "code",
      "metadata": {
        "id": "jrn2Bm0GXhdG",
        "colab_type": "code",
        "colab": {
          "base_uri": "https://localhost:8080/",
          "height": 51
        },
        "outputId": "84325078-3926-4b06-c70c-ecd4aaab836c"
      },
      "source": [
        "'''\n",
        "\n",
        "Opening the front panel reveals a jumble of wires. Specifically, two wires are connected to a central port and extend outward on a grid. You trace the path each wire takes as it leaves the central port, one wire per line of text (your puzzle input).\n",
        "\n",
        "The wires twist and turn, but the two wires occasionally cross paths. To fix the circuit, you need to find the intersection point closest to the central port. Because the wires are on a grid, use the Manhattan distance for this measurement. While the wires do technically cross right at the central port where they both start, this point does not count, nor does a wire count as crossing with itself.\n",
        "\n",
        "For example, if the first wire's path is R8,U5,L5,D3, then starting from the central port (o), it goes right 8, up 5, left 5, and finally down 3:\n",
        "\n",
        "...........\n",
        "...........\n",
        "...........\n",
        "....+----+.\n",
        "....|....|.\n",
        "....|....|.\n",
        "....|....|.\n",
        ".........|.\n",
        ".o-------+.\n",
        "...........\n",
        "Then, if the second wire's path is U7,R6,D4,L4, it goes up 7, right 6, down 4, and left 4:\n",
        "\n",
        "...........\n",
        ".+-----+...\n",
        ".|.....|...\n",
        ".|..+--X-+.\n",
        ".|..|..|.|.\n",
        ".|.-X--+.|.\n",
        ".|..|....|.\n",
        ".|.......|.\n",
        ".o-------+.\n",
        "...........\n",
        "These wires cross at two locations (marked X), but the lower-left one is closer to the central port: its distance is 3 + 3 = 6.\n",
        "'''\n",
        "\n",
        "lista1 = ['U7', 'R6', 'D4', 'L4']\n",
        "lista2 = ['R8','U5','L5','D3']\n",
        "\n",
        "biglist = []\n",
        "\n",
        "def matrix(lista):\n",
        "  poz = []\n",
        "  i = j = 0\n",
        "  for item in lista:\n",
        "    direction = item[0]\n",
        "    number = int(item[1:])\n",
        "    check = 1  \n",
        "    if direction == 'R':\n",
        "      while check <= number:\n",
        "        poz.append((i, check))\n",
        "        check += 1\n",
        "      i += 1\n",
        "      j = number\n",
        "    elif direction == 'U':\n",
        "      while check <= number:\n",
        "        poz.append((check, j))\n",
        "        check += 1\n",
        "      j += 1\n",
        "      i = number\n",
        "    elif direction == 'D':\n",
        "      # check = 0\n",
        "      while check <= number:\n",
        "        poz.append(((i - check), j))\n",
        "        check += 1\n",
        "      j -= 1\n",
        "      i = i - number\n",
        "    else:\n",
        "      # check = 0\n",
        "      while check <= number:\n",
        "        poz.append((i, (j - check)))\n",
        "        check += 1\n",
        "      i -= 1\n",
        "      j = j - number\n",
        "  print(poz)\n",
        "\n",
        "matrix (lista1)\n",
        "matrix (lista2)"
      ],
      "execution_count": 1,
      "outputs": [
        {
          "output_type": "stream",
          "text": [
            "[(1, 0), (2, 0), (3, 0), (4, 0), (5, 0), (6, 0), (7, 0), (7, 1), (7, 2), (7, 3), (7, 4), (7, 5), (7, 6), (7, 6), (6, 6), (5, 6), (4, 6), (4, 4), (4, 3), (4, 2), (4, 1)]\n",
            "[(0, 1), (0, 2), (0, 3), (0, 4), (0, 5), (0, 6), (0, 7), (0, 8), (1, 8), (2, 8), (3, 8), (4, 8), (5, 8), (5, 8), (5, 7), (5, 6), (5, 5), (5, 4), (3, 4), (2, 4), (1, 4)]\n"
          ],
          "name": "stdout"
        }
      ]
    },
    {
      "cell_type": "code",
      "metadata": {
        "id": "2Ovw_fvmXkzP",
        "colab_type": "code",
        "colab": {}
      },
      "source": [
        ""
      ],
      "execution_count": 0,
      "outputs": []
    }
  ]
}