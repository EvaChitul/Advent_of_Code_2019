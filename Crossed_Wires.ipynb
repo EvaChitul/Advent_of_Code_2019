{
  "nbformat": 4,
  "nbformat_minor": 0,
  "metadata": {
    "colab": {
      "name": "Crossed_Wires.ipynb",
      "provenance": [],
      "authorship_tag": "ABX9TyMwSJl+T60auBLu/TtX9cE6",
      "include_colab_link": true
    },
    "kernelspec": {
      "name": "python3",
      "display_name": "Python 3"
    }
  },
  "cells": [
    {
      "cell_type": "markdown",
      "metadata": {
        "id": "view-in-github",
        "colab_type": "text"
      },
      "source": [
        "<a href=\"https://colab.research.google.com/github/EvaChitul/Advent_of_Code_2019/blob/master/Crossed_Wires.ipynb\" target=\"_parent\"><img src=\"https://colab.research.google.com/assets/colab-badge.svg\" alt=\"Open In Colab\"/></a>"
      ]
    },
    {
      "cell_type": "code",
      "metadata": {
        "id": "jrn2Bm0GXhdG",
        "colab_type": "code",
        "colab": {
          "resources": {
            "http://localhost:8080/nbextensions/google.colab/files.js": {
              "data": "Ly8gQ29weXJpZ2h0IDIwMTcgR29vZ2xlIExMQwovLwovLyBMaWNlbnNlZCB1bmRlciB0aGUgQXBhY2hlIExpY2Vuc2UsIFZlcnNpb24gMi4wICh0aGUgIkxpY2Vuc2UiKTsKLy8geW91IG1heSBub3QgdXNlIHRoaXMgZmlsZSBleGNlcHQgaW4gY29tcGxpYW5jZSB3aXRoIHRoZSBMaWNlbnNlLgovLyBZb3UgbWF5IG9idGFpbiBhIGNvcHkgb2YgdGhlIExpY2Vuc2UgYXQKLy8KLy8gICAgICBodHRwOi8vd3d3LmFwYWNoZS5vcmcvbGljZW5zZXMvTElDRU5TRS0yLjAKLy8KLy8gVW5sZXNzIHJlcXVpcmVkIGJ5IGFwcGxpY2FibGUgbGF3IG9yIGFncmVlZCB0byBpbiB3cml0aW5nLCBzb2Z0d2FyZQovLyBkaXN0cmlidXRlZCB1bmRlciB0aGUgTGljZW5zZSBpcyBkaXN0cmlidXRlZCBvbiBhbiAiQVMgSVMiIEJBU0lTLAovLyBXSVRIT1VUIFdBUlJBTlRJRVMgT1IgQ09ORElUSU9OUyBPRiBBTlkgS0lORCwgZWl0aGVyIGV4cHJlc3Mgb3IgaW1wbGllZC4KLy8gU2VlIHRoZSBMaWNlbnNlIGZvciB0aGUgc3BlY2lmaWMgbGFuZ3VhZ2UgZ292ZXJuaW5nIHBlcm1pc3Npb25zIGFuZAovLyBsaW1pdGF0aW9ucyB1bmRlciB0aGUgTGljZW5zZS4KCi8qKgogKiBAZmlsZW92ZXJ2aWV3IEhlbHBlcnMgZm9yIGdvb2dsZS5jb2xhYiBQeXRob24gbW9kdWxlLgogKi8KKGZ1bmN0aW9uKHNjb3BlKSB7CmZ1bmN0aW9uIHNwYW4odGV4dCwgc3R5bGVBdHRyaWJ1dGVzID0ge30pIHsKICBjb25zdCBlbGVtZW50ID0gZG9jdW1lbnQuY3JlYXRlRWxlbWVudCgnc3BhbicpOwogIGVsZW1lbnQudGV4dENvbnRlbnQgPSB0ZXh0OwogIGZvciAoY29uc3Qga2V5IG9mIE9iamVjdC5rZXlzKHN0eWxlQXR0cmlidXRlcykpIHsKICAgIGVsZW1lbnQuc3R5bGVba2V5XSA9IHN0eWxlQXR0cmlidXRlc1trZXldOwogIH0KICByZXR1cm4gZWxlbWVudDsKfQoKLy8gTWF4IG51bWJlciBvZiBieXRlcyB3aGljaCB3aWxsIGJlIHVwbG9hZGVkIGF0IGEgdGltZS4KY29uc3QgTUFYX1BBWUxPQURfU0laRSA9IDEwMCAqIDEwMjQ7Ci8vIE1heCBhbW91bnQgb2YgdGltZSB0byBibG9jayB3YWl0aW5nIGZvciB0aGUgdXNlci4KY29uc3QgRklMRV9DSEFOR0VfVElNRU9VVF9NUyA9IDMwICogMTAwMDsKCmZ1bmN0aW9uIF91cGxvYWRGaWxlcyhpbnB1dElkLCBvdXRwdXRJZCkgewogIGNvbnN0IHN0ZXBzID0gdXBsb2FkRmlsZXNTdGVwKGlucHV0SWQsIG91dHB1dElkKTsKICBjb25zdCBvdXRwdXRFbGVtZW50ID0gZG9jdW1lbnQuZ2V0RWxlbWVudEJ5SWQob3V0cHV0SWQpOwogIC8vIENhY2hlIHN0ZXBzIG9uIHRoZSBvdXRwdXRFbGVtZW50IHRvIG1ha2UgaXQgYXZhaWxhYmxlIGZvciB0aGUgbmV4dCBjYWxsCiAgLy8gdG8gdXBsb2FkRmlsZXNDb250aW51ZSBmcm9tIFB5dGhvbi4KICBvdXRwdXRFbGVtZW50LnN0ZXBzID0gc3RlcHM7CgogIHJldHVybiBfdXBsb2FkRmlsZXNDb250aW51ZShvdXRwdXRJZCk7Cn0KCi8vIFRoaXMgaXMgcm91Z2hseSBhbiBhc3luYyBnZW5lcmF0b3IgKG5vdCBzdXBwb3J0ZWQgaW4gdGhlIGJyb3dzZXIgeWV0KSwKLy8gd2hlcmUgdGhlcmUgYXJlIG11bHRpcGxlIGFzeW5jaHJvbm91cyBzdGVwcyBhbmQgdGhlIFB5dGhvbiBzaWRlIGlzIGdvaW5nCi8vIHRvIHBvbGwgZm9yIGNvbXBsZXRpb24gb2YgZWFjaCBzdGVwLgovLyBUaGlzIHVzZXMgYSBQcm9taXNlIHRvIGJsb2NrIHRoZSBweXRob24gc2lkZSBvbiBjb21wbGV0aW9uIG9mIGVhY2ggc3RlcCwKLy8gdGhlbiBwYXNzZXMgdGhlIHJlc3VsdCBvZiB0aGUgcHJldmlvdXMgc3RlcCBhcyB0aGUgaW5wdXQgdG8gdGhlIG5leHQgc3RlcC4KZnVuY3Rpb24gX3VwbG9hZEZpbGVzQ29udGludWUob3V0cHV0SWQpIHsKICBjb25zdCBvdXRwdXRFbGVtZW50ID0gZG9jdW1lbnQuZ2V0RWxlbWVudEJ5SWQob3V0cHV0SWQpOwogIGNvbnN0IHN0ZXBzID0gb3V0cHV0RWxlbWVudC5zdGVwczsKCiAgY29uc3QgbmV4dCA9IHN0ZXBzLm5leHQob3V0cHV0RWxlbWVudC5sYXN0UHJvbWlzZVZhbHVlKTsKICByZXR1cm4gUHJvbWlzZS5yZXNvbHZlKG5leHQudmFsdWUucHJvbWlzZSkudGhlbigodmFsdWUpID0+IHsKICAgIC8vIENhY2hlIHRoZSBsYXN0IHByb21pc2UgdmFsdWUgdG8gbWFrZSBpdCBhdmFpbGFibGUgdG8gdGhlIG5leHQKICAgIC8vIHN0ZXAgb2YgdGhlIGdlbmVyYXRvci4KICAgIG91dHB1dEVsZW1lbnQubGFzdFByb21pc2VWYWx1ZSA9IHZhbHVlOwogICAgcmV0dXJuIG5leHQudmFsdWUucmVzcG9uc2U7CiAgfSk7Cn0KCi8qKgogKiBHZW5lcmF0b3IgZnVuY3Rpb24gd2hpY2ggaXMgY2FsbGVkIGJldHdlZW4gZWFjaCBhc3luYyBzdGVwIG9mIHRoZSB1cGxvYWQKICogcHJvY2Vzcy4KICogQHBhcmFtIHtzdHJpbmd9IGlucHV0SWQgRWxlbWVudCBJRCBvZiB0aGUgaW5wdXQgZmlsZSBwaWNrZXIgZWxlbWVudC4KICogQHBhcmFtIHtzdHJpbmd9IG91dHB1dElkIEVsZW1lbnQgSUQgb2YgdGhlIG91dHB1dCBkaXNwbGF5LgogKiBAcmV0dXJuIHshSXRlcmFibGU8IU9iamVjdD59IEl0ZXJhYmxlIG9mIG5leHQgc3RlcHMuCiAqLwpmdW5jdGlvbiogdXBsb2FkRmlsZXNTdGVwKGlucHV0SWQsIG91dHB1dElkKSB7CiAgY29uc3QgaW5wdXRFbGVtZW50ID0gZG9jdW1lbnQuZ2V0RWxlbWVudEJ5SWQoaW5wdXRJZCk7CiAgaW5wdXRFbGVtZW50LmRpc2FibGVkID0gZmFsc2U7CgogIGNvbnN0IG91dHB1dEVsZW1lbnQgPSBkb2N1bWVudC5nZXRFbGVtZW50QnlJZChvdXRwdXRJZCk7CiAgb3V0cHV0RWxlbWVudC5pbm5lckhUTUwgPSAnJzsKCiAgY29uc3QgcGlja2VkUHJvbWlzZSA9IG5ldyBQcm9taXNlKChyZXNvbHZlKSA9PiB7CiAgICBpbnB1dEVsZW1lbnQuYWRkRXZlbnRMaXN0ZW5lcignY2hhbmdlJywgKGUpID0+IHsKICAgICAgcmVzb2x2ZShlLnRhcmdldC5maWxlcyk7CiAgICB9KTsKICB9KTsKCiAgY29uc3QgY2FuY2VsID0gZG9jdW1lbnQuY3JlYXRlRWxlbWVudCgnYnV0dG9uJyk7CiAgaW5wdXRFbGVtZW50LnBhcmVudEVsZW1lbnQuYXBwZW5kQ2hpbGQoY2FuY2VsKTsKICBjYW5jZWwudGV4dENvbnRlbnQgPSAnQ2FuY2VsIHVwbG9hZCc7CiAgY29uc3QgY2FuY2VsUHJvbWlzZSA9IG5ldyBQcm9taXNlKChyZXNvbHZlKSA9PiB7CiAgICBjYW5jZWwub25jbGljayA9ICgpID0+IHsKICAgICAgcmVzb2x2ZShudWxsKTsKICAgIH07CiAgfSk7CgogIC8vIENhbmNlbCB1cGxvYWQgaWYgdXNlciBoYXNuJ3QgcGlja2VkIGFueXRoaW5nIGluIHRpbWVvdXQuCiAgY29uc3QgdGltZW91dFByb21pc2UgPSBuZXcgUHJvbWlzZSgocmVzb2x2ZSkgPT4gewogICAgc2V0VGltZW91dCgoKSA9PiB7CiAgICAgIHJlc29sdmUobnVsbCk7CiAgICB9LCBGSUxFX0NIQU5HRV9USU1FT1VUX01TKTsKICB9KTsKCiAgLy8gV2FpdCBmb3IgdGhlIHVzZXIgdG8gcGljayB0aGUgZmlsZXMuCiAgY29uc3QgZmlsZXMgPSB5aWVsZCB7CiAgICBwcm9taXNlOiBQcm9taXNlLnJhY2UoW3BpY2tlZFByb21pc2UsIHRpbWVvdXRQcm9taXNlLCBjYW5jZWxQcm9taXNlXSksCiAgICByZXNwb25zZTogewogICAgICBhY3Rpb246ICdzdGFydGluZycsCiAgICB9CiAgfTsKCiAgaWYgKCFmaWxlcykgewogICAgcmV0dXJuIHsKICAgICAgcmVzcG9uc2U6IHsKICAgICAgICBhY3Rpb246ICdjb21wbGV0ZScsCiAgICAgIH0KICAgIH07CiAgfQoKICBjYW5jZWwucmVtb3ZlKCk7CgogIC8vIERpc2FibGUgdGhlIGlucHV0IGVsZW1lbnQgc2luY2UgZnVydGhlciBwaWNrcyBhcmUgbm90IGFsbG93ZWQuCiAgaW5wdXRFbGVtZW50LmRpc2FibGVkID0gdHJ1ZTsKCiAgZm9yIChjb25zdCBmaWxlIG9mIGZpbGVzKSB7CiAgICBjb25zdCBsaSA9IGRvY3VtZW50LmNyZWF0ZUVsZW1lbnQoJ2xpJyk7CiAgICBsaS5hcHBlbmQoc3BhbihmaWxlLm5hbWUsIHtmb250V2VpZ2h0OiAnYm9sZCd9KSk7CiAgICBsaS5hcHBlbmQoc3BhbigKICAgICAgICBgKCR7ZmlsZS50eXBlIHx8ICduL2EnfSkgLSAke2ZpbGUuc2l6ZX0gYnl0ZXMsIGAgKwogICAgICAgIGBsYXN0IG1vZGlmaWVkOiAkewogICAgICAgICAgICBmaWxlLmxhc3RNb2RpZmllZERhdGUgPyBmaWxlLmxhc3RNb2RpZmllZERhdGUudG9Mb2NhbGVEYXRlU3RyaW5nKCkgOgogICAgICAgICAgICAgICAgICAgICAgICAgICAgICAgICAgICAnbi9hJ30gLSBgKSk7CiAgICBjb25zdCBwZXJjZW50ID0gc3BhbignMCUgZG9uZScpOwogICAgbGkuYXBwZW5kQ2hpbGQocGVyY2VudCk7CgogICAgb3V0cHV0RWxlbWVudC5hcHBlbmRDaGlsZChsaSk7CgogICAgY29uc3QgZmlsZURhdGFQcm9taXNlID0gbmV3IFByb21pc2UoKHJlc29sdmUpID0+IHsKICAgICAgY29uc3QgcmVhZGVyID0gbmV3IEZpbGVSZWFkZXIoKTsKICAgICAgcmVhZGVyLm9ubG9hZCA9IChlKSA9PiB7CiAgICAgICAgcmVzb2x2ZShlLnRhcmdldC5yZXN1bHQpOwogICAgICB9OwogICAgICByZWFkZXIucmVhZEFzQXJyYXlCdWZmZXIoZmlsZSk7CiAgICB9KTsKICAgIC8vIFdhaXQgZm9yIHRoZSBkYXRhIHRvIGJlIHJlYWR5LgogICAgbGV0IGZpbGVEYXRhID0geWllbGQgewogICAgICBwcm9taXNlOiBmaWxlRGF0YVByb21pc2UsCiAgICAgIHJlc3BvbnNlOiB7CiAgICAgICAgYWN0aW9uOiAnY29udGludWUnLAogICAgICB9CiAgICB9OwoKICAgIC8vIFVzZSBhIGNodW5rZWQgc2VuZGluZyB0byBhdm9pZCBtZXNzYWdlIHNpemUgbGltaXRzLiBTZWUgYi82MjExNTY2MC4KICAgIGxldCBwb3NpdGlvbiA9IDA7CiAgICB3aGlsZSAocG9zaXRpb24gPCBmaWxlRGF0YS5ieXRlTGVuZ3RoKSB7CiAgICAgIGNvbnN0IGxlbmd0aCA9IE1hdGgubWluKGZpbGVEYXRhLmJ5dGVMZW5ndGggLSBwb3NpdGlvbiwgTUFYX1BBWUxPQURfU0laRSk7CiAgICAgIGNvbnN0IGNodW5rID0gbmV3IFVpbnQ4QXJyYXkoZmlsZURhdGEsIHBvc2l0aW9uLCBsZW5ndGgpOwogICAgICBwb3NpdGlvbiArPSBsZW5ndGg7CgogICAgICBjb25zdCBiYXNlNjQgPSBidG9hKFN0cmluZy5mcm9tQ2hhckNvZGUuYXBwbHkobnVsbCwgY2h1bmspKTsKICAgICAgeWllbGQgewogICAgICAgIHJlc3BvbnNlOiB7CiAgICAgICAgICBhY3Rpb246ICdhcHBlbmQnLAogICAgICAgICAgZmlsZTogZmlsZS5uYW1lLAogICAgICAgICAgZGF0YTogYmFzZTY0LAogICAgICAgIH0sCiAgICAgIH07CiAgICAgIHBlcmNlbnQudGV4dENvbnRlbnQgPQogICAgICAgICAgYCR7TWF0aC5yb3VuZCgocG9zaXRpb24gLyBmaWxlRGF0YS5ieXRlTGVuZ3RoKSAqIDEwMCl9JSBkb25lYDsKICAgIH0KICB9CgogIC8vIEFsbCBkb25lLgogIHlpZWxkIHsKICAgIHJlc3BvbnNlOiB7CiAgICAgIGFjdGlvbjogJ2NvbXBsZXRlJywKICAgIH0KICB9Owp9CgpzY29wZS5nb29nbGUgPSBzY29wZS5nb29nbGUgfHwge307CnNjb3BlLmdvb2dsZS5jb2xhYiA9IHNjb3BlLmdvb2dsZS5jb2xhYiB8fCB7fTsKc2NvcGUuZ29vZ2xlLmNvbGFiLl9maWxlcyA9IHsKICBfdXBsb2FkRmlsZXMsCiAgX3VwbG9hZEZpbGVzQ29udGludWUsCn07Cn0pKHNlbGYpOwo=",
              "ok": true,
              "headers": [
                [
                  "content-type",
                  "application/javascript"
                ]
              ],
              "status": 200,
              "status_text": ""
            }
          },
          "base_uri": "https://localhost:8080/",
          "height": 145
        },
        "outputId": "f0a31cf0-942a-4171-e190-13d4a9530b1e"
      },
      "source": [
        "'''\n",
        "\n",
        "Opening the front panel reveals a jumble of wires. Specifically, two wires are connected to a central port and extend outward on a grid. You trace the path each wire takes as it leaves the central port, one wire per line of text (your puzzle input).\n",
        "\n",
        "The wires twist and turn, but the two wires occasionally cross paths. To fix the circuit, you need to find the intersection point closest to the central port. Because the wires are on a grid, use the Manhattan distance for this measurement. While the wires do technically cross right at the central port where they both start, this point does not count, nor does a wire count as crossing with itself.\n",
        "\n",
        "For example, if the first wire's path is R8,U5,L5,D3, then starting from the central port (o), it goes right 8, up 5, left 5, and finally down 3:\n",
        "\n",
        "...........\n",
        "...........\n",
        "...........\n",
        "....+----+.\n",
        "....|....|.\n",
        "....|....|.\n",
        "....|....|.\n",
        ".........|.\n",
        ".o-------+.\n",
        "...........\n",
        "Then, if the second wire's path is U7,R6,D4,L4, it goes up 7, right 6, down 4, and left 4:\n",
        "\n",
        "...........\n",
        ".+-----+...\n",
        ".|.....|...\n",
        ".|..+--X-+.\n",
        ".|..|..|.|.\n",
        ".|.-X--+.|.\n",
        ".|..|....|.\n",
        ".|.......|.\n",
        ".o-------+.\n",
        "...........\n",
        "These wires cross at two locations (marked X), but the lower-left one is closer to the central port: its distance is 3 + 3 = 6.\n",
        "'''\n",
        "\n",
        "from google.colab import files\n",
        "uploaded = files.upload()\n",
        "\n",
        "lista = open (\"CrossedWires.txt\", \"r\")\n",
        "liste = lista.read()\n",
        "listanoua = liste.split('\\n')\n",
        "\n",
        "lista1 = listanoua[0].split(',') \n",
        "lista2 = listanoua[1].split(',') \n",
        "print (lista1)\n",
        "print(lista2)\n",
        "\n",
        "def matrix(lista):\n",
        "  poz = []\n",
        "  i = j = 0\n",
        "  for item in lista:\n",
        "    direction = item[0]\n",
        "    number = int(item[1:])\n",
        "    check = 1  \n",
        "\n",
        "    if direction == 'R':\n",
        "      while check <= number:\n",
        "        poz.append((i, check))\n",
        "        check += 1\n",
        "      j += number\n",
        "\n",
        "    elif direction == 'U':\n",
        "      while check <= number:\n",
        "        poz.append((check, j))\n",
        "        check += 1\n",
        "      i += number\n",
        "\n",
        "    elif direction == 'D':\n",
        "      while check <= number:\n",
        "        poz.append(((i - check ), j))\n",
        "        check += 1\n",
        "      i = i - number \n",
        "         \n",
        "    else:\n",
        "      while check <= number:\n",
        "        poz.append((i, (j - check)))\n",
        "        check += 1\n",
        "      j = j - number \n",
        "  return poz\n",
        "\n",
        "set1 = set(matrix (lista1))\n",
        "set2 = set(matrix (lista2))\n",
        "\n",
        "common_set = set1 & set2\n",
        "print(common_set)"
      ],
      "execution_count": 10,
      "outputs": [
        {
          "output_type": "display_data",
          "data": {
            "text/html": [
              "\n",
              "     <input type=\"file\" id=\"files-25be05c4-a65d-4b2c-8edf-c3751a298897\" name=\"files[]\" multiple disabled />\n",
              "     <output id=\"result-25be05c4-a65d-4b2c-8edf-c3751a298897\">\n",
              "      Upload widget is only available when the cell has been executed in the\n",
              "      current browser session. Please rerun this cell to enable.\n",
              "      </output>\n",
              "      <script src=\"/nbextensions/google.colab/files.js\"></script> "
            ],
            "text/plain": [
              "<IPython.core.display.HTML object>"
            ]
          },
          "metadata": {
            "tags": []
          }
        },
        {
          "output_type": "stream",
          "text": [
            "Saving CrossedWires.txt to CrossedWires (5).txt\n",
            "['R1003', 'U476', 'L876', 'U147', 'R127', 'D10', 'R857', 'U199', 'R986', 'U311', 'R536', 'D930', 'R276', 'U589', 'L515', 'D163', 'L660', 'U69', 'R181', 'D596', 'L37', 'D359', 'R69', 'D50', 'L876', 'D867', 'L958', 'U201', 'R91', 'D127', 'R385', 'U646', 'L779', 'D309', 'L577', 'U535', 'R665', 'D669', 'L640', 'D50', 'L841', 'D32', 'R278', 'U302', 'L529', 'U679', 'R225', 'U697', 'R94', 'D205', 'L749', 'U110', 'L132', 'U664', 'R122', 'U476', 'R596', 'U399', 'R145', 'U995', 'R821', 'U80', 'L853', 'U461', 'L775', 'U57', 'R726', 'U299', 'L706', 'U500', 'R520', 'U608', 'L349', 'D636', 'L352', 'U617', 'R790', 'U947', 'L377', 'D995', 'R37', 'U445', 'L706', 'D133', 'R519', 'D194', 'L473', 'U330', 'L788', 'D599', 'L466', 'D100', 'L23', 'D68', 'R412', 'U566', 'R43', 'U333', 'L159', 'D18', 'L671', 'U135', 'R682', 'D222', 'R651', 'U138', 'R904', 'U546', 'R871', 'U264', 'R133', 'U19', 'R413', 'D235', 'R830', 'D376', 'R530', 'U18', 'L476', 'D120', 'L190', 'D252', 'R105', 'D874', 'L544', 'D705', 'R351', 'U527', 'L30', 'U283', 'L971', 'U199', 'L736', 'U36', 'R868', 'D297', 'L581', 'D888', 'L786', 'D865', 'R732', 'U394', 'L786', 'U838', 'L648', 'U434', 'L962', 'D862', 'R897', 'U116', 'L661', 'D848', 'L829', 'U930', 'L171', 'U959', 'R416', 'D855', 'L13', 'U941', 'R122', 'D678', 'R909', 'U536', 'R206', 'U39', 'L222', 'D501', 'L133', 'U360', 'R703', 'D928', 'R603', 'U793', 'L601', 'D935', 'R482', 'U444', 'L23', 'U331', 'L427', 'D349', 'L949', 'U147', 'L253', 'U757', 'R242', 'D307', 'R182', 'D371', 'L174', 'U518', 'L447', 'D851', 'R661', 'U432', 'R334', 'D240', 'R937', 'U625', 'L49', 'D105', 'R727', 'U504', 'L520', 'D126', 'R331', 'U176', 'L81', 'D168', 'L158', 'U774', 'L314', 'U623', 'R39', 'U743', 'R162', 'D646', 'R583', 'U523', 'R899', 'D419', 'L635', 'U958', 'R426', 'U482', 'L513', 'D624', 'L37', 'U669', 'L611', 'U167', 'L904', 'U163', 'L831', 'U222', 'L320', 'U561', 'R126', 'D7', 'L330', 'D313', 'R698', 'D473', 'R163', 'U527', 'R161', 'U823', 'L409', 'D734', 'L507', 'U277', 'L821', 'D341', 'R587', 'U902', 'R857', 'U386', 'R858', 'D522', 'R780', 'D754', 'L973', 'U1', 'R806', 'D439', 'R141', 'D621', 'R983', 'D546', 'R899', 'U566', 'L443', 'D147', 'R558', 'D820', 'R181', 'U351', 'R625', 'U60', 'R521', 'U225', 'R757', 'U673', 'L267', 'D624', 'L306', 'U531', 'L202', 'U854', 'L138', 'D725', 'R364', 'D813', 'L787', 'U183', 'R98', 'D899', 'R945', 'D363', 'L797']\n",
            "['L993', 'D9', 'L41', 'D892', 'L493', 'D174', 'R20', 'D927', 'R263', 'D65', 'R476', 'D884', 'R60', 'D313', 'R175', 'U4', 'L957', 'U514', 'R821', 'U330', 'L973', 'U876', 'L856', 'D15', 'L988', 'U443', 'R205', 'D662', 'R753', 'U74', 'R270', 'D232', 'R56', 'D409', 'R2', 'U257', 'R198', 'U644', 'L435', 'U16', 'L914', 'D584', 'L909', 'D222', 'R919', 'U649', 'R77', 'U213', 'R949', 'D272', 'R893', 'U717', 'L939', 'U310', 'R637', 'D912', 'L347', 'D755', 'L895', 'D305', 'R460', 'D214', 'L826', 'D847', 'R680', 'U821', 'L688', 'U472', 'R721', 'U2', 'L755', 'D84', 'L716', 'U466', 'L833', 'U12', 'L410', 'D453', 'L462', 'D782', 'R59', 'U491', 'L235', 'D827', 'L924', 'U964', 'R443', 'D544', 'L904', 'D383', 'R259', 'D12', 'L538', 'D194', 'R945', 'U356', 'L85', 'D362', 'R672', 'D741', 'L556', 'U696', 'L994', 'U576', 'L201', 'D912', 'L282', 'D328', 'R322', 'D277', 'L269', 'U799', 'R150', 'U584', 'L479', 'U69', 'R313', 'U628', 'R114', 'D870', 'R660', 'D929', 'R964', 'U412', 'L790', 'U948', 'R949', 'D955', 'L555', 'U478', 'R967', 'D850', 'R569', 'D705', 'R30', 'U434', 'L948', 'U711', 'L507', 'D729', 'L256', 'U740', 'L60', 'D127', 'L95', 'U93', 'R260', 'D74', 'L267', 'D637', 'L658', 'U831', 'R882', 'D798', 'L173', 'U835', 'R960', 'D583', 'R411', 'U967', 'L515', 'U302', 'L456', 'D322', 'R963', 'U788', 'L516', 'U845', 'L131', 'U741', 'L246', 'D215', 'R233', 'U621', 'R420', 'D679', 'L8', 'D962', 'R514', 'U51', 'L891', 'U705', 'L699', 'U909', 'R408', 'D664', 'R324', 'U846', 'R503', 'U769', 'R32', 'D495', 'R154', 'U403', 'R145', 'U581', 'L708', 'D315', 'R556', 'U582', 'R363', 'U495', 'L722', 'U210', 'R718', 'U927', 'R994', 'D136', 'R744', 'U107', 'R316', 'D222', 'R796', 'U755', 'L69', 'D877', 'R661', 'D378', 'L215', 'D105', 'R333', 'D780', 'R335', 'D691', 'L263', 'U603', 'L582', 'U95', 'L140', 'D651', 'R414', 'D420', 'L497', 'U106', 'L470', 'D826', 'R706', 'D166', 'R500', 'D258', 'L225', 'U310', 'L866', 'U720', 'R247', 'D500', 'L340', 'U726', 'R296', 'U16', 'R227', 'U839', 'R537', 'U125', 'R700', 'U372', 'L310', 'D444', 'R214', 'D121', 'R151', 'U351', 'L767', 'D815', 'R537', 'U392', 'L595', 'U178', 'L961', 'D366', 'L216', 'U392', 'R645', 'U195', 'R231', 'D734', 'L441', 'D680', 'L226', 'D212', 'L142', 'U131', 'L427', 'D159', 'L538', 'D270', 'R553', 'D841', 'R115', 'U346', 'R673', 'D421', 'L403', 'D320', 'L296', 'U831', 'L655', 'U690', 'L105', 'U474', 'L687']\n",
            "{(6, -2295), (67, -4350), (498, -2237), (594, -2291), (6, -2276), (67, -4364), (498, -2396), (134, 127), (833, -1711), (-957, -1527), (118, 127), (6, -2320), (112, -2393), (6, -2126), (67, -4596), (498, -2501), (441, 1), (498, -2276), (134, 113), (484, -1569), (6, -1962), (379, -1565), (833, -1533), (67, -4116), (6, -2264), (6, -2051), (112, -2396), (379, -1352), (6, -2212), (6, -2340), (112, -2711), (118, 113), (484, -2002), (6, -2176), (6, -2274), (594, -2351), (6, -1963), (118, 1), (379, -1533), (-687, -1724), (498, -2176), (318, 1), (6, -2318), (492, 1), (484, -1774), (594, -2299), (134, 1), (379, -1492), (226, 1), (67, -4363), (6, -2237), (498, -2320), (112, -2501), (498, -2393), (484, -1642), (498, -2212), (426, 1), (379, -1534)}\n"
          ],
          "name": "stdout"
        }
      ]
    },
    {
      "cell_type": "code",
      "metadata": {
        "id": "2Ovw_fvmXkzP",
        "colab_type": "code",
        "colab": {}
      },
      "source": [
        ""
      ],
      "execution_count": 0,
      "outputs": []
    }
  ]
}