{
  "nbformat": 4,
  "nbformat_minor": 0,
  "metadata": {
    "colab": {
      "name": "Secure Container.ipynb",
      "provenance": [],
      "authorship_tag": "ABX9TyPCJUPBFXNe97qgbQvlTlbe",
      "include_colab_link": true
    },
    "kernelspec": {
      "name": "python3",
      "display_name": "Python 3"
    }
  },
  "cells": [
    {
      "cell_type": "markdown",
      "metadata": {
        "id": "view-in-github",
        "colab_type": "text"
      },
      "source": [
        "<a href=\"https://colab.research.google.com/github/EvaChitul/Advent_of_Code_2019/blob/master/Secure_Container.ipynb\" target=\"_parent\"><img src=\"https://colab.research.google.com/assets/colab-badge.svg\" alt=\"Open In Colab\"/></a>"
      ]
    },
    {
      "cell_type": "code",
      "metadata": {
        "id": "l-FhHhwymVtA",
        "colab_type": "code",
        "colab": {
          "base_uri": "https://localhost:8080/",
          "height": 34
        },
        "outputId": "dc0ba716-dc4a-441f-a7fa-276b63a9655a"
      },
      "source": [
        "'''\n",
        "You arrive at the Venus fuel depot only to discover it's protected by a password. The Elves had written the password on a sticky note, but someone threw it out.\n",
        "\n",
        "However, they do remember a few key facts about the password:\n",
        "\n",
        "It is a six-digit number.\n",
        "The value is within the range given in your puzzle input.\n",
        "Two adjacent digits are the same (like 22 in 122345).\n",
        "Going from left to right, the digits never decrease; they only ever increase or stay the same (like 111123 or 135679).\n",
        "Other than the range rule, the following are true:\n",
        "\n",
        "111111 meets these criteria (double 11, never decreases).\n",
        "223450 does not meet these criteria (decreasing pair of digits 50).\n",
        "123789 does not meet these criteria (no double).\n",
        "How many different passwords within the range given in your puzzle input meet these criteria?\n",
        "\n",
        "Your puzzle input is 382345-843167.\n",
        "'''\n",
        "\n",
        "numbers = '382345-843167'\n",
        "\n",
        "def get_range(intro):\n",
        "  full_range = range_numbers.split('-')\n",
        "  range_begin = int(full_range[0])\n",
        "  range_end = int(full_range[1])\n",
        "  return (range_begin, range_end)\n",
        "\n",
        "begin, end = get_range(numbers)\n",
        "\n",
        "# print(begin, end)\n",
        "\n",
        "def turn_number_list(element):\n",
        "  element_list = [int(e) for e in str(element)]\n",
        "  return element_list\n",
        "\n",
        "turn_number_list(begin)\n",
        "turn_number_list (end)\n",
        "\n",
        "def increasing_list_check(lista):\n",
        "  for x in range(0, len(lista) - 1):\n",
        "    if lista[x] > lista [x+1]:\n",
        "      return False\n",
        "  return True\n",
        "\n",
        "def list_condition_decreasing(start, finish):\n",
        "  final_list = []\n",
        "  for number in range(start, finish+1):\n",
        "    number_list = turn_number_list(number)\n",
        "    if increasing_list_check(number_list) and double_list(number_list):\n",
        "        final_list.append(number)\n",
        "  return final_list\n",
        "\n",
        "double_list_check = list_condition_decreasing(begin, end)\n",
        "print (len(double_list_check))\n",
        "# print (double_list_check)\n",
        "\n",
        "def double_list(list_to_check):\n",
        "  for y in range (0, len(list_to_check) - 1):\n",
        "    if list_to_check[y] == list_to_check[y+1]:\n",
        "      return True\n",
        "  return False\n",
        "\n",
        "# def password_options(options):\n",
        "#   password_list = []\n",
        "#   for password in options:\n",
        "#     if double_list (turn_number_list(password)) == True:\n",
        "#       password_list.append(password)\n",
        "#   return password_list\n",
        "\n",
        "# passes = password_options(double_list_check)\n",
        "# no_passwords = len (passes)\n",
        "# print (no_passwords)"
      ],
      "execution_count": 46,
      "outputs": [
        {
          "output_type": "stream",
          "text": [
            "460\n"
          ],
          "name": "stdout"
        }
      ]
    },
    {
      "cell_type": "code",
      "metadata": {
        "id": "5Jfa6sN266DL",
        "colab_type": "code",
        "colab": {}
      },
      "source": [
        ""
      ],
      "execution_count": 0,
      "outputs": []
    }
  ]
}