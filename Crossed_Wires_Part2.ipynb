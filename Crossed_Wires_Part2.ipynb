{
  "nbformat": 4,
  "nbformat_minor": 0,
  "metadata": {
    "colab": {
      "name": "Crossed_Wires_Part2.ipynb",
      "provenance": [],
      "authorship_tag": "ABX9TyNKsw/SiU3936r/E3xGRsr4",
      "include_colab_link": true
    },
    "kernelspec": {
      "name": "python3",
      "display_name": "Python 3"
    }
  },
  "cells": [
    {
      "cell_type": "markdown",
      "metadata": {
        "id": "view-in-github",
        "colab_type": "text"
      },
      "source": [
        "<a href=\"https://colab.research.google.com/github/EvaChitul/Advent_of_Code_2019/blob/master/Crossed_Wires_Part2.ipynb\" target=\"_parent\"><img src=\"https://colab.research.google.com/assets/colab-badge.svg\" alt=\"Open In Colab\"/></a>"
      ]
    },
    {
      "cell_type": "code",
      "metadata": {
        "id": "qZ0RuHzf2Va7",
        "colab_type": "code",
        "colab": {
          "base_uri": "https://localhost:8080/",
          "height": 85
        },
        "outputId": "fae67080-1cb9-4459-faea-706752a2b87f"
      },
      "source": [
        "'''\n",
        "It turns out that this circuit is very timing-sensitive; you actually need to minimize the signal delay.\n",
        "\n",
        "To do this, calculate the number of steps each wire takes to reach each intersection; choose the intersection where the sum of both wires' steps is lowest. If a wire visits a position on the grid multiple times, use the steps value from the first time it visits that position when calculating the total value of a specific intersection.\n",
        "\n",
        "The number of steps a wire takes is the total number of grid squares the wire has entered to get to that location, including the intersection being considered. Again consider the example from above:\n",
        "\n",
        "...........\n",
        ".+-----+...\n",
        ".|.....|...\n",
        ".|..+--X-+.\n",
        ".|..|..|.|.\n",
        ".|.-X--+.|.\n",
        ".|..|....|.\n",
        ".|.......|.\n",
        ".o-------+.\n",
        "...........\n",
        "In the above example, the intersection closest to the central port is reached after 8+5+5+2 = 20 steps by the first wire and 7+6+4+3 = 20 steps by the second wire for a total of 20+20 = 40 steps.\n",
        "\n",
        "However, the top-right intersection is better: the first wire takes only 8+5+2 = 15 and the second wire takes only 7+6+2 = 15, a total of 15+15 = 30 steps.\n",
        "\n",
        "What is the fewest combined steps the wires must take to reach an intersection?\n",
        "\n",
        "'''\n",
        "\n",
        "# from google.colab import files\n",
        "# uploaded = files.upload()\n",
        "\n",
        "# lista = open (\"CrossedWires.txt\", \"r\")\n",
        "# liste = lista.read()\n",
        "# listanoua = liste.split('\\n')\n",
        "\n",
        "# lista1 = listanoua[0].split(',') \n",
        "# lista2 = listanoua[1].split(',') \n",
        "\n",
        "lista3 = ['U7', 'R6', 'D4', 'L4']\n",
        "lista4 = ['R8','U5','L5','D3']\n",
        "\n",
        "def matrix(lista):\n",
        "  poz = []\n",
        "  i = j = 0\n",
        "  moves = 1\n",
        "\n",
        "  for item in lista:\n",
        "    direction = item[0]\n",
        "    number = int(item[1:])\n",
        "    check = 1  \n",
        "\n",
        "    if direction == 'R':\n",
        "      while check <= number:\n",
        "        poz.append((i, j + check, moves))\n",
        "        check += 1\n",
        "        moves += 1\n",
        "      j += number\n",
        "\n",
        "    elif direction == 'U':\n",
        "      while check <= number:\n",
        "        poz.append((i + check, j, moves))\n",
        "        check += 1\n",
        "        moves += 1\n",
        "      i += number\n",
        "\n",
        "    elif direction == 'D':\n",
        "      while check <= number:\n",
        "        poz.append(((i - check ), j, moves))\n",
        "        check += 1\n",
        "        moves += 1\n",
        "      i = i - number \n",
        "         \n",
        "    else:\n",
        "      while check <= number:\n",
        "        poz.append((i, (j - check), moves))\n",
        "        check += 1\n",
        "        moves += 1\n",
        "      j = j - number \n",
        "  return poz\n",
        "\n",
        "# set1 = set(matrix (lista1))\n",
        "# set2 = set(matrix (lista2))\n",
        "# common_set = set1 & set2\n",
        "\n",
        "set3 = matrix(lista3)\n",
        "set4 = matrix(lista4)\n",
        "\n",
        "print (set3)\n",
        "print (set4)\n",
        "\n",
        "first_intersection = []\n",
        "\n",
        "for a in set3:\n",
        "  for b in set4:\n",
        "    if a[0] == b[0] & a[1] == b[1]:\n",
        "      first_intersection.append(a)\n",
        "      first_intersection.append(b)\n",
        "      break\n",
        "    \n",
        "print (first_intersection)\n",
        "print (first_intersection[0][2] + first_intersection[1][2])\n",
        "    \n"
      ],
      "execution_count": 6,
      "outputs": [
        {
          "output_type": "stream",
          "text": [
            "[(1, 0, 1), (2, 0, 2), (3, 0, 3), (4, 0, 4), (5, 0, 5), (6, 0, 6), (7, 0, 7), (7, 1, 8), (7, 2, 9), (7, 3, 10), (7, 4, 11), (7, 5, 12), (7, 6, 13), (6, 6, 14), (5, 6, 15), (4, 6, 16), (3, 6, 17), (3, 5, 18), (3, 4, 19), (3, 3, 20), (3, 2, 21)]\n",
            "[(0, 1, 1), (0, 2, 2), (0, 3, 3), (0, 4, 4), (0, 5, 5), (0, 6, 6), (0, 7, 7), (0, 8, 8), (1, 8, 9), (2, 8, 10), (3, 8, 11), (4, 8, 12), (5, 8, 13), (5, 7, 14), (5, 6, 15), (5, 5, 16), (5, 4, 17), (5, 3, 18), (4, 3, 19), (3, 3, 20), (2, 3, 21)]\n",
            "[(4, 6, 16), (5, 4, 17), (3, 3, 20), (3, 3, 20)]\n",
            "33\n"
          ],
          "name": "stdout"
        }
      ]
    },
    {
      "cell_type": "code",
      "metadata": {
        "id": "w0sVOseO2gVf",
        "colab_type": "code",
        "colab": {}
      },
      "source": [
        ""
      ],
      "execution_count": 0,
      "outputs": []
    }
  ]
}